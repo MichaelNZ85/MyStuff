{
 "cells": [
  {
   "cell_type": "code",
   "execution_count": null,
   "metadata": {},
   "outputs": [],
   "source": [
    "space = \" \"\n",
    "indent_count = 0"
   ]
  },
  {
   "cell_type": "code",
   "execution_count": 4,
   "metadata": {},
   "outputs": [
    {
     "name": "stdout",
     "output_type": "stream",
     "text": [
      "<ol type=\"A\">\n",
      "  <li>Coffee</li>\n",
      "  <li>Tea</li>\n",
      "  <li>Milk</li>\n",
      "</ol>\n",
      "\n",
      "<ul style=\"list-style-type:square\">\n",
      "  <li>Coffee</li>\n",
      "  <li>Tea</li>\n",
      "  <li>Milk</li>\n",
      "</ul>\n",
      "\n"
     ]
    }
   ],
   "source": [
    "html_file = open('test.html')\n",
    "html = html_file.read()\n",
    "print(html)"
   ]
  },
  {
   "cell_type": "code",
   "execution_count": 5,
   "metadata": {},
   "outputs": [],
   "source": [
    "start_parse = html.split('<')"
   ]
  },
  {
   "cell_type": "code",
   "execution_count": 6,
   "metadata": {},
   "outputs": [
    {
     "data": {
      "text/plain": [
       "['',\n",
       " 'ol type=\"A\">\\n  ',\n",
       " 'li>Coffee',\n",
       " '/li>\\n  ',\n",
       " 'li>Tea',\n",
       " '/li>\\n  ',\n",
       " 'li>Milk',\n",
       " '/li>\\n',\n",
       " '/ol>\\n\\n',\n",
       " 'ul style=\"list-style-type:square\">\\n  ',\n",
       " 'li>Coffee',\n",
       " '/li>\\n  ',\n",
       " 'li>Tea',\n",
       " '/li>\\n  ',\n",
       " 'li>Milk',\n",
       " '/li>\\n',\n",
       " '/ul>\\n']"
      ]
     },
     "execution_count": 6,
     "metadata": {},
     "output_type": "execute_result"
    }
   ],
   "source": [
    "start_parse"
   ]
  },
  {
   "cell_type": "code",
   "execution_count": 11,
   "metadata": {},
   "outputs": [
    {
     "name": "stdout",
     "output_type": "stream",
     "text": [
      "1\n"
     ]
    }
   ],
   "source": [
    "for string in start_parse:\n",
    "    close_tag_loc = string.find('>')\n",
    "    if (string.find('=') != -1):\n",
    "        count = string.count('=')\n",
    "print(count)"
   ]
  },
  {
   "cell_type": "code",
   "execution_count": null,
   "metadata": {},
   "outputs": [],
   "source": []
  }
 ],
 "metadata": {
  "kernelspec": {
   "display_name": "Python 3",
   "language": "python",
   "name": "python3"
  }
 },
 "nbformat": 4,
 "nbformat_minor": 2
}
